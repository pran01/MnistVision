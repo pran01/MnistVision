{
  "nbformat": 4,
  "nbformat_minor": 0,
  "metadata": {
    "colab": {
      "name": "Untitled5.ipynb",
      "provenance": [],
      "collapsed_sections": []
    },
    "kernelspec": {
      "name": "python3",
      "display_name": "Python 3"
    },
    "accelerator": "GPU"
  },
  "cells": [
    {
      "cell_type": "code",
      "metadata": {
        "id": "gEQDh6EDpw7Q",
        "colab_type": "code",
        "colab": {}
      },
      "source": [
        "import tensorflow\n",
        "from keras.datasets import mnist\n",
        "from keras.models import Sequential\n",
        "from keras.layers.core import Dense, Dropout, Flatten\n",
        "from keras.layers.convolutional import Conv2D,MaxPooling2D\n",
        "from keras.optimizers import RMSprop"
      ],
      "execution_count": 64,
      "outputs": []
    },
    {
      "cell_type": "code",
      "metadata": {
        "id": "CDwFdHFPTqxN",
        "colab_type": "code",
        "colab": {}
      },
      "source": [
        "(mnist_train_images,mnist_train_labels),(mnist_test_images,mnist_test_labels)=mnist.load_data()"
      ],
      "execution_count": 68,
      "outputs": []
    },
    {
      "cell_type": "code",
      "metadata": {
        "id": "SRztwa_EVYnh",
        "colab_type": "code",
        "colab": {}
      },
      "source": [
        "# from tensorflow.keras import backend as K\n",
        "\n",
        "# if K.image_data_format() == 'channels_first':\n",
        "#     train_images = mnist_train_images.reshape(mnist_train_images.shape[0], 1, 28, 28)\n",
        "#     test_images = mnist_test_images.reshape(mnist_test_images.shape[0], 1, 28, 28)\n",
        "#     input_shape = (1, 28, 28)\n",
        "# else:\n",
        "train_images = mnist_train_images.reshape(mnist_train_images.shape[0], 28, 28, 1)\n",
        "test_images = mnist_test_images.reshape(mnist_test_images.shape[0], 28, 28, 1)\n",
        "input_shape = (28, 28, 1)\n",
        "    \n",
        "train_images= train_images.astype('float32')\n",
        "test_images = test_images.astype('float32')\n",
        "train_images/= 255\n",
        "test_images /= 255"
      ],
      "execution_count": 69,
      "outputs": []
    },
    {
      "cell_type": "code",
      "metadata": {
        "id": "dG2-Y2EjVrVo",
        "colab_type": "code",
        "colab": {}
      },
      "source": [
        "#converting to one hot encoded format\n",
        "train_labels = tensorflow.keras.utils.to_categorical(mnist_train_labels, 10)\n",
        "test_labels = tensorflow.keras.utils.to_categorical(mnist_test_labels, 10)"
      ],
      "execution_count": 70,
      "outputs": []
    },
    {
      "cell_type": "code",
      "metadata": {
        "id": "GHCtIyPjWWv8",
        "colab_type": "code",
        "colab": {
          "base_uri": "https://localhost:8080/",
          "height": 299
        },
        "outputId": "eef5f8bf-80de-498d-c145-9f63cfc771f0"
      },
      "source": [
        "import matplotlib.pyplot as plt\n",
        "\n",
        "def display_sample(num):\n",
        "    #Print the one-hot array of this sample's label \n",
        "    print(train_labels[num])  \n",
        "    #Print the label converted back to a number\n",
        "    label = train_labels[num].argmax(axis=0)\n",
        "    #Reshape the 768 values to a 28x28 image\n",
        "    image = train_images[num].reshape([28,28])\n",
        "    plt.title('Sample: %d  Label: %d' % (num, label))\n",
        "    plt.imshow(image, cmap=plt.get_cmap('gray_r'))\n",
        "    plt.show()\n",
        "    \n",
        "display_sample(56)"
      ],
      "execution_count": 71,
      "outputs": [
        {
          "output_type": "stream",
          "text": [
            "[1. 0. 0. 0. 0. 0. 0. 0. 0. 0.]\n"
          ],
          "name": "stdout"
        },
        {
          "output_type": "display_data",
          "data": {
            "image/png": "[encoded data removed]",
            "text/plain": [
              "<Figure size 432x288 with 1 Axes>"
            ]
          },
          "metadata": {
            "tags": [],
            "needs_background": "light"
          }
        }
      ]
    },
    {
      "cell_type": "code",
      "metadata": {
        "id": "Qp0qq97KWb9q",
        "colab_type": "code",
        "colab": {}
      },
      "source": [
        "model = Sequential()\n",
        "model.add(Conv2D(32, kernel_size=(3, 3),\n",
        "                 activation='relu',\n",
        "                 input_shape=input_shape))\n",
        "# 64 3x3 kernels\n",
        "model.add(Conv2D(64, (3, 3), activation='relu'))\n",
        "# Reduce by taking the max of each 2x2 block\n",
        "model.add(MaxPooling2D(pool_size=(2, 2)))\n",
        "# Dropout to avoid overfitting\n",
        "model.add(Dropout(0.25))\n",
        "# Flatten the results to one dimension for passing into our final layer\n",
        "model.add(Flatten())\n",
        "# A hidden layer to learn with\n",
        "model.add(Dense(128, activation='relu'))\n",
        "# Another dropout\n",
        "model.add(Dropout(0.5))\n",
        "# Final categorization from 0-9 with softmax\n",
        "model.add(Dense(10, activation='softmax'))"
      ],
      "execution_count": 82,
      "outputs": []
    },
    {
      "cell_type": "code",
      "metadata": {
        "id": "XEUXkPWNYTIZ",
        "colab_type": "code",
        "colab": {
          "base_uri": "https://localhost:8080/",
          "height": 433
        },
        "outputId": "5739ca1f-dbbf-4bf4-9e90-85cfee95e64e"
      },
      "source": [
        "model.summary()"
      ],
      "execution_count": 83,
      "outputs": [
        {
          "output_type": "stream",
          "text": [
            "Model: \"sequential_5\"\n",
            "_________________________________________________________________\n",
            "Layer (type)                 Output Shape              Param #   \n",
            "=================================================================\n",
            "conv2d_9 (Conv2D)            (None, 26, 26, 32)        320       \n",
            "_________________________________________________________________\n",
            "conv2d_10 (Conv2D)           (None, 24, 24, 64)        18496     \n",
            "_________________________________________________________________\n",
            "max_pooling2d_5 (MaxPooling2 (None, 12, 12, 64)        0         \n",
            "_________________________________________________________________\n",
            "dropout_9 (Dropout)          (None, 12, 12, 64)        0         \n",
            "_________________________________________________________________\n",
            "flatten_5 (Flatten)          (None, 9216)              0         \n",
            "_________________________________________________________________\n",
            "dense_9 (Dense)              (None, 128)               1179776   \n",
            "_________________________________________________________________\n",
            "dropout_10 (Dropout)         (None, 128)               0         \n",
            "_________________________________________________________________\n",
            "dense_10 (Dense)             (None, 10)                1290      \n",
            "=================================================================\n",
            "Total params: 1,199,882\n",
            "Trainable params: 1,199,882\n",
            "Non-trainable params: 0\n",
            "_________________________________________________________________\n"
          ],
          "name": "stdout"
        }
      ]
    },
    {
      "cell_type": "code",
      "metadata": {
        "id": "QFxWLigdYYzP",
        "colab_type": "code",
        "colab": {}
      },
      "source": [
        "model.compile(loss='categorical_crossentropy',\n",
        "              optimizer='adam',\n",
        "              metrics=['accuracy'])"
      ],
      "execution_count": 84,
      "outputs": []
    },
    {
      "cell_type": "code",
      "metadata": {
        "id": "YySsyPIwYfKo",
        "colab_type": "code",
        "colab": {
          "base_uri": "https://localhost:8080/",
          "height": 381
        },
        "outputId": "1bd33f72-641d-4051-80f0-8916fa4b477f"
      },
      "source": [
        "with tensorflow.device('/device:GPU:0'):\n",
        "  model.fit(train_images, train_labels,\n",
        "                    batch_size=128,\n",
        "                    epochs=10,\n",
        "                    verbose=2,\n",
        "                    validation_data=(test_images, test_labels))"
      ],
      "execution_count": 85,
      "outputs": [
        {
          "output_type": "stream",
          "text": [
            "Train on 60000 samples, validate on 10000 samples\n",
            "Epoch 1/10\n",
            " - 5s - loss: 0.2296 - accuracy: 0.9299 - val_loss: 0.0503 - val_accuracy: 0.9834\n",
            "Epoch 2/10\n",
            " - 4s - loss: 0.0826 - accuracy: 0.9759 - val_loss: 0.0388 - val_accuracy: 0.9877\n",
            "Epoch 3/10\n",
            " - 4s - loss: 0.0590 - accuracy: 0.9826 - val_loss: 0.0341 - val_accuracy: 0.9897\n",
            "Epoch 4/10\n",
            " - 4s - loss: 0.0506 - accuracy: 0.9842 - val_loss: 0.0297 - val_accuracy: 0.9895\n",
            "Epoch 5/10\n",
            " - 4s - loss: 0.0413 - accuracy: 0.9870 - val_loss: 0.0336 - val_accuracy: 0.9903\n",
            "Epoch 6/10\n",
            " - 4s - loss: 0.0376 - accuracy: 0.9880 - val_loss: 0.0300 - val_accuracy: 0.9905\n",
            "Epoch 7/10\n",
            " - 4s - loss: 0.0319 - accuracy: 0.9899 - val_loss: 0.0293 - val_accuracy: 0.9908\n",
            "Epoch 8/10\n",
            " - 4s - loss: 0.0289 - accuracy: 0.9911 - val_loss: 0.0287 - val_accuracy: 0.9919\n",
            "Epoch 9/10\n",
            " - 4s - loss: 0.0264 - accuracy: 0.9914 - val_loss: 0.0284 - val_accuracy: 0.9922\n",
            "Epoch 10/10\n",
            " - 4s - loss: 0.0240 - accuracy: 0.9921 - val_loss: 0.0320 - val_accuracy: 0.9914\n"
          ],
          "name": "stdout"
        }
      ]
    },
    {
      "cell_type": "code",
      "metadata": {
        "id": "Fxs1x3buaD6L",
        "colab_type": "code",
        "colab": {}
      },
      "source": [
        "model.save(\"Mymodel.h5\")"
      ],
      "execution_count": 88,
      "outputs": []
    },
    {
      "cell_type": "code",
      "metadata": {
        "id": "16Zox97hb5RK",
        "colab_type": "code",
        "colab": {}
      },
      "source": [
        "model=tensorflow.keras.models.load_model(\"Mymodel.h5\")"
      ],
      "execution_count": 8,
      "outputs": []
    },
    {
      "cell_type": "code",
      "metadata": {
        "id": "ZiJlFws7cGCx",
        "colab_type": "code",
        "colab": {
          "base_uri": "https://localhost:8080/",
          "height": 52
        },
        "outputId": "06a52d63-fe65-4c05-9d68-dd42653f1e49"
      },
      "source": [
        "score = model.evaluate(test_images, test_labels, verbose=0)\n",
        "print('Test loss:', score[0])\n",
        "print('Test accuracy:', score[1])"
      ],
      "execution_count": 86,
      "outputs": [
        {
          "output_type": "stream",
          "text": [
            "Test loss: 0.031958312514554395\n",
            "Test accuracy: 0.9914000034332275\n"
          ],
          "name": "stdout"
        }
      ]
    },
    {
      "cell_type": "code",
      "metadata": {
        "id": "_1yT3X3lcxxB",
        "colab_type": "code",
        "colab": {
          "base_uri": "https://localhost:8080/",
          "height": 265
        },
        "outputId": "1d523c65-7cb9-4da2-a1ed-c276e8eead83"
      },
      "source": [
        "# def array_to_image(num):\n",
        "#     #Print the one-hot array of this sample's label \n",
        "#     print(train_labels[num])  \n",
        "#     #Print the label converted back to a number\n",
        "#     label = train_labels[num].argmax(axis=0)\n",
        "#     print(label)\n",
        "#     #Reshape the 768 values to a 28x28 image\n",
        "image = train_images[9601].reshape([28,28])\n",
        "plt.imshow(image, cmap=plt.get_cmap('gray_r'))\n",
        "plt.show()\n"
      ],
      "execution_count": 92,
      "outputs": [
        {
          "output_type": "display_data",
          "data": {
            "image/png": "[encoded data removed]",
            "text/plain": [
              "<Figure size 432x288 with 1 Axes>"
            ]
          },
          "metadata": {
            "tags": [],
            "needs_background": "light"
          }
        }
      ]
    },
    {
      "cell_type": "code",
      "metadata": {
        "id": "NaASZxHCcPf-",
        "colab_type": "code",
        "colab": {
          "base_uri": "https://localhost:8080/",
          "height": 35
        },
        "outputId": "b9d3fdd9-6d33-4802-d7cf-a6a6bba71833"
      },
      "source": [
        "import cv2\n",
        "from google.colab.patches import cv2_imshow\n",
        "from PIL import Image\n",
        "import numpy as np\n",
        "\n",
        "\n",
        "# test_file=\"9.jpg\"\n",
        "# col=Image.open(test_file)\n",
        "# gray=col.convert('L')\n",
        "# bw=gray.point(lambda x:0 if x<100 else 255,'1')\n",
        "# bw.save(\"bw_image.jpg\")\n",
        "# bw\n",
        "# image=cv2.imread(\"bw_image.jpg\",cv2.IMREAD_GRAYSCALE)\n",
        "# image=cv2.bitwise_not(image)\n",
        "# plt.imshow(image,cmap=plt.cm.binary)\n",
        "# plt.show()\n",
        "# image_new=cv2.resize(image,(28,28))\n",
        "# plt.imshow(image_new,cmap=plt.cm.binary)\n",
        "# plt.show()\n",
        "\n",
        "\n",
        "# if K.image_data_format() == 'channels_first':\n",
        "#     image = image.reshape(-1,1, 28, 28)\n",
        "#     input_shape = (1, 28, 28)\n",
        "# else:\n",
        "image=train_images[9601]\n",
        "# image = image.astype('float32')\n",
        "image = image.reshape(-1,28, 28,1)\n",
        "# image/=255\n",
        "# print(image.shape)\n",
        "# image=cv2.imread(\"2.jpg\")\n",
        "# # image=cv2.cvtColor(image,cv2.COLOR_BGR2GRAY)\n",
        "# plt.imshow(image,cmap=plt.cm.binary)\n",
        "# image = cv2.resize(image,(28, 28), interpolation=cv2.INTER_AREA)\n",
        "\n",
        "\n",
        "# image = image_new.reshape(-1,28, 28, 1)\n",
        "# image = np.array(image, dtype='float32')\n",
        "# image /= 255\n",
        "\n",
        "\n",
        "print(image.shape)\n",
        "# plt.imshow(image,cmap=plt.cm.binary)"
      ],
      "execution_count": 95,
      "outputs": [
        {
          "output_type": "stream",
          "text": [
            "(1, 28, 28, 1)\n"
          ],
          "name": "stdout"
        }
      ]
    },
    {
      "cell_type": "code",
      "metadata": {
        "id": "dqQ6tz7cf4OB",
        "colab_type": "code",
        "colab": {
          "base_uri": "https://localhost:8080/",
          "height": 69
        },
        "outputId": "4052ef87-7845-4dd2-ab4a-ae966f360218"
      },
      "source": [
        "import numpy as np\n",
        "\n",
        "pred_array = model.predict(image)\n",
        "print(pred_array)\n",
        "pred_array = np.argmax(pred_array)\n",
        "print('Result: {0}'.format(pred_array))"
      ],
      "execution_count": 96,
      "outputs": [
        {
          "output_type": "stream",
          "text": [
            "[[2.5946472e-11 3.8013837e-10 4.4555183e-08 5.1553872e-08 2.2298817e-10\n",
            "  7.4692643e-08 2.4434892e-06 4.2004288e-13 9.9999738e-01 5.8126903e-11]]\n",
            "Result: 8\n"
          ],
          "name": "stdout"
        }
      ]
    },
    {
      "cell_type": "code",
      "metadata": {
        "id": "AQFuw7Zx8nCM",
        "colab_type": "code",
        "colab": {}
      },
      "source": [
        ""
      ],
      "execution_count": null,
      "outputs": []
    }
  ]
}